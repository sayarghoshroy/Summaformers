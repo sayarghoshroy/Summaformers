{
 "cells": [
  {
   "cell_type": "code",
   "execution_count": 1,
   "metadata": {},
   "outputs": [],
   "source": [
    "def summ_parser(file):\n",
    "    f = open(file)\n",
    "    f_str = f.read().split('\\n')\n",
    "    \n",
    "    f_tokens = [unit for unit in f_str if unit != '']\n",
    "    \n",
    "    f_tokens = f_tokens[2:]\n",
    "    # removing index and LAYSUMM tags\n",
    "    \n",
    "    info_dict = {}\n",
    "\n",
    "    info_dict['title'] = f_tokens[1]\n",
    "    info_dict['laysumm'] = f_tokens[2: ]\n",
    "    # retaining paragraph tags for the time being\n",
    "    \n",
    "    return info_dict"
   ]
  },
  {
   "cell_type": "code",
   "execution_count": 2,
   "metadata": {},
   "outputs": [],
   "source": [
    "def abstract_parser(file):\n",
    "    f = open(file)\n",
    "    f_str = f.read().split('\\n')\n",
    "    \n",
    "    f_tokens = [unit for unit in f_str if unit != '']\n",
    "    \n",
    "    f_tokens = f_tokens[2:]\n",
    "    # removing index and ABSTRACT tags\n",
    "    \n",
    "    info_dict = {}\n",
    "\n",
    "    info_dict['title'] = f_tokens[1]\n",
    "    info_dict['abstract'] = f_tokens[2: ]\n",
    "    # retaining paragraph tags for the time being\n",
    "    \n",
    "    return info_dict"
   ]
  },
  {
   "cell_type": "code",
   "execution_count": 3,
   "metadata": {},
   "outputs": [],
   "source": [
    "def fulltext_parser(file):\n",
    "    f = open(file)\n",
    "    f_str = f.read().split('\\n')\n",
    "    \n",
    "    f_tokens = [unit for unit in f_str if unit != '']\n",
    "    \n",
    "    f_tokens = f_tokens[2:]\n",
    "    # removing index and FULLTEXT tags\n",
    "    \n",
    "    info_dict = {}\n",
    "\n",
    "    info_dict['title'] = f_tokens[1]\n",
    "    \n",
    "    index = 2\n",
    "    size = len(f_tokens)\n",
    "    \n",
    "    # NOTE: There is no way to accurately identify nested sections\n",
    "    while (index < size):\n",
    "        if f_tokens[index] == 'SECTION':\n",
    "            try:\n",
    "                next_location = f_tokens.index('SECTION', index + 3)\n",
    "            except:\n",
    "                next_location = size\n",
    "            \n",
    "            info_dict [f_tokens[index + 1].lower()] = f_tokens[index + 2: next_location]\n",
    "            index = next_location\n",
    "    \n",
    "    # Displaying section headers\n",
    "    for key in info_dict.keys():\n",
    "        print(key)\n",
    "        \n",
    "    return info_dict"
   ]
  },
  {
   "cell_type": "code",
   "execution_count": 4,
   "metadata": {},
   "outputs": [
    {
     "name": "stdout",
     "output_type": "stream",
     "text": [
      "title\n",
      "introduction\n",
      "material and methods\n",
      "in vivo imaging\n",
      "quantification of enzyme–activity\n",
      "histology\n",
      "cell isolation, flow cytometry, and cell sorting\n",
      "statistical analysis\n",
      "results\n",
      "discussion\n",
      "financial support\n",
      "conflict of interest\n",
      "authors’ contributions\n"
     ]
    }
   ],
   "source": [
    "store = fulltext_parser(\"FULLTEXT\")"
   ]
  },
  {
   "cell_type": "code",
   "execution_count": 5,
   "metadata": {},
   "outputs": [],
   "source": [
    "# ^_^ Thank You"
   ]
  }
 ],
 "metadata": {
  "kernelspec": {
   "display_name": "Python 3",
   "language": "python",
   "name": "python3"
  },
  "language_info": {
   "codemirror_mode": {
    "name": "ipython",
    "version": 3
   },
   "file_extension": ".py",
   "mimetype": "text/x-python",
   "name": "python",
   "nbconvert_exporter": "python",
   "pygments_lexer": "ipython3",
   "version": "3.7.3"
  }
 },
 "nbformat": 4,
 "nbformat_minor": 2
}
