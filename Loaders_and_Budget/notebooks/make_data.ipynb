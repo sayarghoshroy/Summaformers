{
 "cells": [
  {
   "cell_type": "code",
   "execution_count": 1,
   "metadata": {},
   "outputs": [],
   "source": [
    "from parse_functions import *\n",
    "import os"
   ]
  },
  {
   "cell_type": "code",
   "execution_count": 2,
   "metadata": {},
   "outputs": [],
   "source": [
    "def get_datapoints(location):\n",
    "    # location of LAYSUMM, directory with all the triplet files\n",
    "    # returns list of {'fulltext': _, 'abstract': _, 'laysumm': _}\n",
    "    datapoints = []\n",
    "    \n",
    "    for dir_name in os.listdir(location):\n",
    "        triplet_loc = location + dir_name\n",
    "        \n",
    "        datapoint = {}\n",
    "        \n",
    "        datapoint['fulltext'] = fulltext_parser(triplet_loc + \"/\" + \"FULLTEXT\")\n",
    "        datapoint['abstract'] = abstract_parser(triplet_loc + \"/\" + \"ABSTRACT\")\n",
    "        datapoint['laysumm'] = summ_parser(triplet_loc + \"/\" + \"LAYSUMM\")\n",
    "        \n",
    "        datapoints.append(datapoint)\n",
    "    return datapoints"
   ]
  },
  {
   "cell_type": "code",
   "execution_count": 3,
   "metadata": {},
   "outputs": [],
   "source": [
    "data = get_datapoints(\"./LaySumm/\")"
   ]
  },
  {
   "cell_type": "code",
   "execution_count": 4,
   "metadata": {},
   "outputs": [
    {
     "name": "stdout",
     "output_type": "stream",
     "text": [
      "Number of Datapoints: 10\n"
     ]
    }
   ],
   "source": [
    "print(\"Number of Datapoints:\", len(data))"
   ]
  },
  {
   "cell_type": "code",
   "execution_count": 5,
   "metadata": {},
   "outputs": [],
   "source": [
    "# ^_^ Thank You"
   ]
  }
 ],
 "metadata": {
  "kernelspec": {
   "display_name": "Python 3",
   "language": "python",
   "name": "python3"
  },
  "language_info": {
   "codemirror_mode": {
    "name": "ipython",
    "version": 3
   },
   "file_extension": ".py",
   "mimetype": "text/x-python",
   "name": "python",
   "nbconvert_exporter": "python",
   "pygments_lexer": "ipython3",
   "version": "3.7.3"
  }
 },
 "nbformat": 4,
 "nbformat_minor": 2
}
