{
 "cells": [
  {
   "cell_type": "code",
   "execution_count": 1,
   "metadata": {},
   "outputs": [],
   "source": [
    "import pickle\n",
    "from rouge import Rouge\n",
    "\n",
    "rouge = Rouge()\n",
    "\n",
    "import nltk\n",
    "import numpy as np\n",
    "from arXiv_pubMed_reader import get_datapoints as get_data"
   ]
  },
  {
   "cell_type": "code",
   "execution_count": 2,
   "metadata": {},
   "outputs": [],
   "source": [
    "store = get_data('./ArXiv_Sample/')"
   ]
  },
  {
   "cell_type": "code",
   "execution_count": 3,
   "metadata": {},
   "outputs": [],
   "source": [
    "def make_stats_dict():\n",
    "    # if more fields are required\n",
    "    # add fields in thsis block\n",
    "    \n",
    "    fields = {'count': 0,\n",
    "              'lengths': [],\n",
    "              'rouge_measures': []}\n",
    "    return fields"
   ]
  },
  {
   "cell_type": "code",
   "execution_count": 4,
   "metadata": {},
   "outputs": [],
   "source": [
    "def get_text(units):\n",
    "    \n",
    "    text = \"\"\n",
    "    \n",
    "    for sent in units:\n",
    "        if sent == 'PARAGRAPH':\n",
    "            continue\n",
    "        tokens = nltk.word_tokenize(sent)\n",
    "        \n",
    "        for token in tokens:\n",
    "            text += token.strip().rstrip(\"\\n\") + \" \"\n",
    "            \n",
    "    return text"
   ]
  },
  {
   "cell_type": "code",
   "execution_count": 5,
   "metadata": {},
   "outputs": [],
   "source": [
    "def extract_rouge(rouge_dict):\n",
    "    # extracts all rouge metrics\n",
    "    # returns a numpy array\n",
    "    # s.t additive properties can be used directly\n",
    "    \n",
    "    scores = []\n",
    "\n",
    "    scores.append(100 * rouge_dict[\"rouge-1\"]['f'])\n",
    "    scores.append(100 * rouge_dict[\"rouge-1\"]['p'])\n",
    "    scores.append(100 * rouge_dict[\"rouge-1\"]['r'])\n",
    "\n",
    "    scores.append(100 * rouge_dict[\"rouge-2\"]['f'])\n",
    "    scores.append(100 * rouge_dict[\"rouge-2\"]['p'])\n",
    "    scores.append(100 * rouge_dict[\"rouge-2\"]['r'])\n",
    "\n",
    "    scores.append(100 * rouge_dict[\"rouge-l\"]['f'])\n",
    "    scores.append(100 * rouge_dict[\"rouge-l\"]['p'])\n",
    "    scores.append(100 * rouge_dict[\"rouge-l\"]['r'])\n",
    "\n",
    "    return np.asarray(scores)"
   ]
  },
  {
   "cell_type": "code",
   "execution_count": 6,
   "metadata": {},
   "outputs": [],
   "source": [
    "section_stats = {}"
   ]
  },
  {
   "cell_type": "code",
   "execution_count": 7,
   "metadata": {},
   "outputs": [],
   "source": [
    "# considering only the train-set for experiments\n",
    "size = len(store['train'])\n",
    "index = 0\n",
    "\n",
    "while(index < size):\n",
    "    workon = store['train'][index]\n",
    "    count_sections = len(workon['section_names'])\n",
    "    abstract = get_text(workon['abstract_text'])\n",
    "    \n",
    "    section_id = 0    \n",
    "    \n",
    "    while(section_id < count_sections):\n",
    "        section_name = workon['section_names'][section_id]\n",
    "        \n",
    "        if section_name not in section_stats.keys():\n",
    "            section_stats[section_name] = make_stats_dict()\n",
    "            \n",
    "        section = get_text(workon['sections'][section_id])\n",
    "\n",
    "        try:\n",
    "            scores = rouge.get_scores(section, abstract)[0]\n",
    "        except:\n",
    "            section_id += 1\n",
    "            continue\n",
    "            \n",
    "        section_stats[section_name]['count'] += 1\n",
    "        section_stats[section_name]['lengths'].append(len(section))\n",
    "        section_stats[section_name]['rouge_measures'].append(extract_rouge(scores))\n",
    "        \n",
    "        section_id += 1\n",
    "    \n",
    "    index += 1"
   ]
  },
  {
   "cell_type": "code",
   "execution_count": 8,
   "metadata": {},
   "outputs": [],
   "source": [
    "# Saving Results\n",
    "filename = 'stats_ArXiv_Sample.pickle'\n",
    "# dumping summaries into a pickle file for further loading and evaluation\n",
    "with open(filename, 'wb') as f:\n",
    "    pickle.dump(section_stats, f)"
   ]
  },
  {
   "cell_type": "code",
   "execution_count": 9,
   "metadata": {},
   "outputs": [],
   "source": [
    "# ^_^ Thank You"
   ]
  }
 ],
 "metadata": {
  "kernelspec": {
   "display_name": "Python 3",
   "language": "python",
   "name": "python3"
  },
  "language_info": {
   "codemirror_mode": {
    "name": "ipython",
    "version": 3
   },
   "file_extension": ".py",
   "mimetype": "text/x-python",
   "name": "python",
   "nbconvert_exporter": "python",
   "pygments_lexer": "ipython3",
   "version": "3.7.3"
  }
 },
 "nbformat": 4,
 "nbformat_minor": 2
}
