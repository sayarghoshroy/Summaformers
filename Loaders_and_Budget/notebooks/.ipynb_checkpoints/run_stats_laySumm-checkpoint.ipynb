{
 "cells": [
  {
   "cell_type": "code",
   "execution_count": 1,
   "metadata": {},
   "outputs": [
    {
     "ename": "ModuleNotFoundError",
     "evalue": "No module named 'make_data'",
     "output_type": "error",
     "traceback": [
      "\u001b[0;31m---------------------------------------------------------------------------\u001b[0m",
      "\u001b[0;31mModuleNotFoundError\u001b[0m                       Traceback (most recent call last)",
      "\u001b[0;32m<ipython-input-1-80a8364fd5a4>\u001b[0m in \u001b[0;36m<module>\u001b[0;34m\u001b[0m\n\u001b[1;32m      5\u001b[0m \u001b[0;34m\u001b[0m\u001b[0m\n\u001b[1;32m      6\u001b[0m \u001b[0;32mimport\u001b[0m \u001b[0mnumpy\u001b[0m \u001b[0;32mas\u001b[0m \u001b[0mnp\u001b[0m\u001b[0;34m\u001b[0m\u001b[0;34m\u001b[0m\u001b[0m\n\u001b[0;32m----> 7\u001b[0;31m \u001b[0;32mfrom\u001b[0m \u001b[0mmake_data\u001b[0m \u001b[0;32mimport\u001b[0m \u001b[0mget_datapoints\u001b[0m \u001b[0;32mas\u001b[0m \u001b[0mget_data\u001b[0m\u001b[0;34m\u001b[0m\u001b[0;34m\u001b[0m\u001b[0m\n\u001b[0m",
      "\u001b[0;31mModuleNotFoundError\u001b[0m: No module named 'make_data'"
     ]
    }
   ],
   "source": [
    "import pickle\n",
    "from rouge import Rouge\n",
    "\n",
    "rouge = Rouge()\n",
    "\n",
    "import numpy as np\n",
    "from make_data import get_datapoints as get_data"
   ]
  },
  {
   "cell_type": "code",
   "execution_count": null,
   "metadata": {},
   "outputs": [],
   "source": [
    "store = get_data(\"./LaySumm_Sample/\")\n",
    "print(\"Number of Datapoints:\", len(store))"
   ]
  },
  {
   "cell_type": "code",
   "execution_count": null,
   "metadata": {},
   "outputs": [],
   "source": [
    "# Displaying All Fields\n",
    "# Checking Correctness of Loader\n",
    "# for key in store[0]['fulltext'].keys():\n",
    "#     print(key)"
   ]
  },
  {
   "cell_type": "code",
   "execution_count": null,
   "metadata": {},
   "outputs": [],
   "source": [
    "def make_stats_dict():\n",
    "    # if more fields are required\n",
    "    # add fields in thsis block\n",
    "    \n",
    "    fields = {'count': 0,\n",
    "              'len_sum': 0,\n",
    "              'rouge_measures': np.zeros(9)}\n",
    "    return fields"
   ]
  },
  {
   "cell_type": "code",
   "execution_count": null,
   "metadata": {},
   "outputs": [],
   "source": [
    "def extract_rouge(rouge_dict):\n",
    "    # extracts all rouge metrics\n",
    "    # returns a numpy array\n",
    "    # s.t additive properties can be used directly\n",
    "    \n",
    "    scores = []\n",
    "\n",
    "    scores.append(100 * rouge_dict[\"rouge-1\"]['f'])\n",
    "    scores.append(100 * rouge_dict[\"rouge-1\"]['p'])\n",
    "    scores.append(100 * rouge_dict[\"rouge-1\"]['r'])\n",
    "\n",
    "    scores.append(100 * rouge_dict[\"rouge-2\"]['f'])\n",
    "    scores.append(100 * rouge_dict[\"rouge-2\"]['p'])\n",
    "    scores.append(100 * rouge_dict[\"rouge-2\"]['r'])\n",
    "\n",
    "    scores.append(100 * rouge_dict[\"rouge-l\"]['f'])\n",
    "    scores.append(100 * rouge_dict[\"rouge-l\"]['p'])\n",
    "    scores.append(100 * rouge_dict[\"rouge-l\"]['r'])\n",
    "\n",
    "    return np.asarray(scores)"
   ]
  },
  {
   "cell_type": "code",
   "execution_count": null,
   "metadata": {},
   "outputs": [],
   "source": [
    "def get_text(units):\n",
    "    \n",
    "    text = \"\"\n",
    "    \n",
    "    for sent in units:\n",
    "        if sent != 'PARAGRAPH':\n",
    "            text += sent.strip().rstrip(\"\\n\") + \" \"\n",
    "    \n",
    "    return text"
   ]
  },
  {
   "cell_type": "code",
   "execution_count": null,
   "metadata": {},
   "outputs": [],
   "source": [
    "section_stats = {}\n",
    "for paper in store:\n",
    "    for key in paper['fulltext'].keys():\n",
    "        if key == 'title':\n",
    "            continue\n",
    "            \n",
    "        if key not in section_stats.keys():\n",
    "            section_stats[key] = make_stats_dict()\n",
    "\n",
    "        abstract = get_text(paper['abstract']['abstract'])\n",
    "        section = get_text(paper['fulltext'][key])\n",
    "        \n",
    "        if len(section) < 2 or len(abstract) < 2:\n",
    "            continue\n",
    "            \n",
    "        try:\n",
    "            scores = rouge.get_scores(section, abstract)[0]\n",
    "        except:\n",
    "            continue\n",
    "        \n",
    "        section_stats[key]['count'] += 1\n",
    "        section_stats[key]['len_sum'] += len(paper['fulltext'][key])\n",
    "        section_stats[key]['rouge_measures'] += extract_rouge(scores)\n",
    "        \n",
    "        section_stats[key]['rouge_measures'] += extract_rouge(scores)"
   ]
  },
  {
   "cell_type": "code",
   "execution_count": null,
   "metadata": {},
   "outputs": [],
   "source": [
    "# Displaying Results\n",
    "print(\"Section Head: Count\".upper())\n",
    "for key in section_stats.keys():\n",
    "    if section_stats[key]['count'] >= 5:\n",
    "        print(key + \": \" + str(section_stats[key]['count']))"
   ]
  },
  {
   "cell_type": "code",
   "execution_count": null,
   "metadata": {},
   "outputs": [],
   "source": [
    "# Saving Results\n",
    "filename = 'stats_LaySumm_Sample.pickle'\n",
    "# dumping summaries into a pickle file for further loading and evaluation\n",
    "with open(filename, 'wb') as f:\n",
    "    pickle.dump(section_stats, f)"
   ]
  },
  {
   "cell_type": "code",
   "execution_count": null,
   "metadata": {},
   "outputs": [],
   "source": [
    "# ^_^ Thank You"
   ]
  }
 ],
 "metadata": {
  "kernelspec": {
   "display_name": "Python 3",
   "language": "python",
   "name": "python3"
  },
  "language_info": {
   "codemirror_mode": {
    "name": "ipython",
    "version": 3
   },
   "file_extension": ".py",
   "mimetype": "text/x-python",
   "name": "python",
   "nbconvert_exporter": "python",
   "pygments_lexer": "ipython3",
   "version": "3.7.3"
  }
 },
 "nbformat": 4,
 "nbformat_minor": 2
}
