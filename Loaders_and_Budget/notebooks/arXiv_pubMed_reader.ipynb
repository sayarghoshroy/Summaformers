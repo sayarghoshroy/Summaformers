{
 "cells": [
  {
   "cell_type": "code",
   "execution_count": 1,
   "metadata": {},
   "outputs": [],
   "source": [
    "import os\n",
    "import json\n",
    "import pickle\n",
    "import ast"
   ]
  },
  {
   "cell_type": "code",
   "execution_count": 2,
   "metadata": {},
   "outputs": [],
   "source": [
    "def get_datapoints(location):\n",
    "    # location of ArXiv or PubMed directory with train, val, test splits\n",
    "    if location.endswith('/') == False:\n",
    "        location = location + \"/\"\n",
    "    \n",
    "    datapoints = {'train': _, 'test': _, 'val': _}\n",
    "    \n",
    "    for unit in datapoints.keys():\n",
    "        file_name = location + unit + \"_sample.txt\"\n",
    "        lines = open(file_name).read().split(\"\\n\")\n",
    "        \n",
    "        datalines = []\n",
    "        \n",
    "        for line in lines:\n",
    "            try:\n",
    "                line.replace(\"'\", \"\\\"\")\n",
    "                datalines.append(json.loads(line))\n",
    "            except:\n",
    "                pass\n",
    "        \n",
    "        datapoints[unit] = datalines\n",
    "        \n",
    "    return datapoints"
   ]
  },
  {
   "cell_type": "code",
   "execution_count": 3,
   "metadata": {},
   "outputs": [],
   "source": [
    "store = get_datapoints('./ArXiv_Sample/')\n",
    "# print(len(store['train']))"
   ]
  },
  {
   "cell_type": "code",
   "execution_count": 4,
   "metadata": {},
   "outputs": [],
   "source": [
    "# ^_^ Thank You"
   ]
  }
 ],
 "metadata": {
  "kernelspec": {
   "display_name": "Python 3",
   "language": "python",
   "name": "python3"
  },
  "language_info": {
   "codemirror_mode": {
    "name": "ipython",
    "version": 3
   },
   "file_extension": ".py",
   "mimetype": "text/x-python",
   "name": "python",
   "nbconvert_exporter": "python",
   "pygments_lexer": "ipython3",
   "version": "3.7.3"
  }
 },
 "nbformat": 4,
 "nbformat_minor": 2
}
