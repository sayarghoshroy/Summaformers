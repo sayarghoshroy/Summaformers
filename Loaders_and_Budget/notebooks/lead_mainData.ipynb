{
 "cells": [
  {
   "cell_type": "code",
   "execution_count": 1,
   "metadata": {},
   "outputs": [],
   "source": [
    "from make_data import get_datapoints as get_data"
   ]
  },
  {
   "cell_type": "code",
   "execution_count": 2,
   "metadata": {},
   "outputs": [],
   "source": [
    "# Number of Sentences from each Section\n",
    "lead_count = 3"
   ]
  },
  {
   "cell_type": "code",
   "execution_count": 3,
   "metadata": {},
   "outputs": [
    {
     "name": "stdout",
     "output_type": "stream",
     "text": [
      "Number of Datapoints: 10\n"
     ]
    }
   ],
   "source": [
    "store = get_data(\"./LaySumm_Sample/\")\n",
    "print(\"Number of Datapoints:\", len(store))"
   ]
  },
  {
   "cell_type": "code",
   "execution_count": 4,
   "metadata": {},
   "outputs": [
    {
     "name": "stdout",
     "output_type": "stream",
     "text": [
      "fulltext\n",
      "abstract\n",
      "laysumm\n"
     ]
    }
   ],
   "source": [
    "# Displaying the fields\n",
    "for key in store[0].keys():\n",
    "    print(key)"
   ]
  },
  {
   "cell_type": "code",
   "execution_count": 5,
   "metadata": {},
   "outputs": [],
   "source": [
    "size = len(store)\n",
    "index = 0\n",
    "section_summs = []\n",
    "\n",
    "while(index < size):\n",
    "    workon = store[index]\n",
    "    summary = {}\n",
    "    \n",
    "    count_sections = len(workon['fulltext'].keys()) - 1\n",
    "    # 'fulltext' contains the 'title' block as well\n",
    "    \n",
    "    for key in workon['fulltext'].keys():\n",
    "        if key == 'title':\n",
    "            continue\n",
    "        \n",
    "        summary[key] = workon['fulltext'][key][0: lead_count]\n",
    "    \n",
    "    section_summs.append(summary)\n",
    "    index += 1"
   ]
  },
  {
   "cell_type": "code",
   "execution_count": 6,
   "metadata": {},
   "outputs": [],
   "source": [
    "# Testing creation:\n",
    "# print(section_summs[0])"
   ]
  },
  {
   "cell_type": "code",
   "execution_count": 7,
   "metadata": {},
   "outputs": [],
   "source": [
    "# ^_^ Thank You"
   ]
  }
 ],
 "metadata": {
  "kernelspec": {
   "display_name": "Python 3",
   "language": "python",
   "name": "python3"
  },
  "language_info": {
   "codemirror_mode": {
    "name": "ipython",
    "version": 3
   },
   "file_extension": ".py",
   "mimetype": "text/x-python",
   "name": "python",
   "nbconvert_exporter": "python",
   "pygments_lexer": "ipython3",
   "version": "3.7.3"
  }
 },
 "nbformat": 4,
 "nbformat_minor": 2
}
