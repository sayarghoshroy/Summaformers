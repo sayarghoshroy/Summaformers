{
 "cells": [
  {
   "cell_type": "code",
   "execution_count": 1,
   "metadata": {},
   "outputs": [],
   "source": [
    "import pickle\n",
    "from rouge import Rouge\n",
    "\n",
    "rouge = Rouge()\n",
    "\n",
    "import nltk\n",
    "import numpy as np\n",
    "from make_data import get_datapoints as get_data"
   ]
  },
  {
   "cell_type": "code",
   "execution_count": 2,
   "metadata": {},
   "outputs": [
    {
     "name": "stdout",
     "output_type": "stream",
     "text": [
      "Number of Datapoints: 10\n"
     ]
    }
   ],
   "source": [
    "store = get_data(\"./LaySumm_Sample/\")\n",
    "print(\"Number of Datapoints:\", len(store))"
   ]
  },
  {
   "cell_type": "code",
   "execution_count": 3,
   "metadata": {},
   "outputs": [],
   "source": [
    "# Displaying All Fields\n",
    "# Checking Correctness of Loader\n",
    "# for key in store[0]['fulltext'].keys():\n",
    "#     print(key)"
   ]
  },
  {
   "cell_type": "code",
   "execution_count": 4,
   "metadata": {},
   "outputs": [],
   "source": [
    "def make_stats_dict():\n",
    "    # if more fields are required\n",
    "    # add fields in thsis block\n",
    "    \n",
    "    fields = {'count': 0,\n",
    "              'lengths': [],\n",
    "              'rouge_measures': []}\n",
    "    return fields"
   ]
  },
  {
   "cell_type": "code",
   "execution_count": 5,
   "metadata": {},
   "outputs": [],
   "source": [
    "def extract_rouge(rouge_dict):\n",
    "    # extracts all rouge metrics\n",
    "    # returns a numpy array\n",
    "    # s.t additive properties can be used directly\n",
    "    \n",
    "    scores = []\n",
    "\n",
    "    scores.append(100 * rouge_dict[\"rouge-1\"]['f'])\n",
    "    scores.append(100 * rouge_dict[\"rouge-1\"]['p'])\n",
    "    scores.append(100 * rouge_dict[\"rouge-1\"]['r'])\n",
    "\n",
    "    scores.append(100 * rouge_dict[\"rouge-2\"]['f'])\n",
    "    scores.append(100 * rouge_dict[\"rouge-2\"]['p'])\n",
    "    scores.append(100 * rouge_dict[\"rouge-2\"]['r'])\n",
    "\n",
    "    scores.append(100 * rouge_dict[\"rouge-l\"]['f'])\n",
    "    scores.append(100 * rouge_dict[\"rouge-l\"]['p'])\n",
    "    scores.append(100 * rouge_dict[\"rouge-l\"]['r'])\n",
    "\n",
    "    return np.asarray(scores)"
   ]
  },
  {
   "cell_type": "code",
   "execution_count": 6,
   "metadata": {},
   "outputs": [],
   "source": [
    "def get_text(units):\n",
    "    \n",
    "    text = \"\"\n",
    "    \n",
    "    for sent in units:\n",
    "        if sent == 'PARAGRAPH':\n",
    "            continue\n",
    "        tokens = nltk.word_tokenize(sent)\n",
    "        \n",
    "        for token in tokens:\n",
    "            text += token.strip().rstrip(\"\\n\") + \" \"\n",
    "            \n",
    "    return text"
   ]
  },
  {
   "cell_type": "code",
   "execution_count": 7,
   "metadata": {},
   "outputs": [],
   "source": [
    "section_stats = {}\n",
    "\n",
    "for paper in store:\n",
    "    \n",
    "    abstract = get_text(paper['abstract']['abstract'])\n",
    "    \n",
    "    for key in paper['fulltext'].keys():\n",
    "        if key == 'title':\n",
    "            continue\n",
    "            \n",
    "        if key not in section_stats.keys():\n",
    "            section_stats[key] = make_stats_dict()\n",
    "\n",
    "        \n",
    "        section = get_text(paper['fulltext'][key])\n",
    "            \n",
    "        try:\n",
    "            scores = rouge.get_scores(section, abstract)[0]\n",
    "        except:\n",
    "            continue\n",
    "        \n",
    "        section_stats[key]['count'] += 1\n",
    "        section_stats[key]['lengths'].append(len(section))\n",
    "        section_stats[key]['rouge_measures'].append(extract_rouge(scores))"
   ]
  },
  {
   "cell_type": "code",
   "execution_count": 8,
   "metadata": {},
   "outputs": [
    {
     "name": "stdout",
     "output_type": "stream",
     "text": [
      "SECTION HEAD: COUNT\n",
      "introduction: 10\n",
      "patients and methods: 5\n",
      "statistical analysis: 6\n",
      "results: 10\n",
      "discussion: 10\n",
      "financial support: 9\n",
      "conflict of interest: 10\n",
      "authors’ contributions: 10\n"
     ]
    }
   ],
   "source": [
    "# Displaying Results\n",
    "print(\"Section Head: Count\".upper())\n",
    "for key in section_stats.keys():\n",
    "    if section_stats[key]['count'] >= 5:\n",
    "        print(key + \": \" + str(section_stats[key]['count']))"
   ]
  },
  {
   "cell_type": "code",
   "execution_count": 9,
   "metadata": {},
   "outputs": [],
   "source": [
    "# Saving Results\n",
    "filename = 'stats_LaySumm_Sample.pickle'\n",
    "# dumping summaries into a pickle file for further loading and evaluation\n",
    "with open(filename, 'wb') as f:\n",
    "    pickle.dump(section_stats, f)"
   ]
  },
  {
   "cell_type": "code",
   "execution_count": 10,
   "metadata": {},
   "outputs": [],
   "source": [
    "# ^_^ Thank You"
   ]
  }
 ],
 "metadata": {
  "kernelspec": {
   "display_name": "Python 3",
   "language": "python",
   "name": "python3"
  },
  "language_info": {
   "codemirror_mode": {
    "name": "ipython",
    "version": 3
   },
   "file_extension": ".py",
   "mimetype": "text/x-python",
   "name": "python",
   "nbconvert_exporter": "python",
   "pygments_lexer": "ipython3",
   "version": "3.7.3"
  }
 },
 "nbformat": 4,
 "nbformat_minor": 2
}
