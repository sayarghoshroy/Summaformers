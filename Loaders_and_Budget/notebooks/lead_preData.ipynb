{
 "cells": [
  {
   "cell_type": "code",
   "execution_count": 1,
   "metadata": {},
   "outputs": [],
   "source": [
    "from arXiv_pubMed_reader import get_datapoints as get_data"
   ]
  },
  {
   "cell_type": "code",
   "execution_count": 2,
   "metadata": {},
   "outputs": [],
   "source": [
    "# Number of Sentences from each Section\n",
    "lead_count = 3"
   ]
  },
  {
   "cell_type": "code",
   "execution_count": 3,
   "metadata": {},
   "outputs": [],
   "source": [
    "store = get_data('./ArXiv_Sample/')"
   ]
  },
  {
   "cell_type": "code",
   "execution_count": 4,
   "metadata": {},
   "outputs": [],
   "source": [
    "units = {'train': [], 'test': [], 'val': []}\n",
    "for unit in units.keys():\n",
    "    size = len(store[unit])\n",
    "    index = 0\n",
    "    \n",
    "    while(index < size):\n",
    "        workon = store[unit][index]\n",
    "        summary = {}\n",
    "        \n",
    "        count_sections = len(workon['section_names'])\n",
    "        section_id = 0\n",
    "        \n",
    "        while(section_id < count_sections):\n",
    "            summary[workon['section_names'][section_id]] = workon['sections'][section_id][0: lead_count]\n",
    "            section_id += 1\n",
    "        \n",
    "        units[unit].append(summary)\n",
    "        index += 1"
   ]
  },
  {
   "cell_type": "code",
   "execution_count": 5,
   "metadata": {},
   "outputs": [],
   "source": [
    "# ^_^ Thank You"
   ]
  }
 ],
 "metadata": {
  "kernelspec": {
   "display_name": "Python 3",
   "language": "python",
   "name": "python3"
  },
  "language_info": {
   "codemirror_mode": {
    "name": "ipython",
    "version": 3
   },
   "file_extension": ".py",
   "mimetype": "text/x-python",
   "name": "python",
   "nbconvert_exporter": "python",
   "pygments_lexer": "ipython3",
   "version": "3.7.3"
  }
 },
 "nbformat": 4,
 "nbformat_minor": 2
}
