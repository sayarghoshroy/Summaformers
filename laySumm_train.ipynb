{
  "nbformat": 4,
  "nbformat_minor": 0,
  "metadata": {
    "kernelspec": {
      "name": "python3",
      "display_name": "Python 3"
    },
    "colab": {
      "name": "laySumm_train.ipynb",
      "provenance": [],
      "collapsed_sections": [],
      "include_colab_link": true
    },
    "accelerator": "GPU",
    "widgets": {
      "application/vnd.jupyter.widget-state+json": {
        "1a9f48fa35674f5b937ce83650459fa9": {
          "model_module": "@jupyter-widgets/controls",
          "model_name": "HBoxModel",
          "state": {
            "_view_name": "HBoxView",
            "_dom_classes": [],
            "_model_name": "HBoxModel",
            "_view_module": "@jupyter-widgets/controls",
            "_model_module_version": "1.5.0",
            "_view_count": null,
            "_view_module_version": "1.5.0",
            "box_style": "",
            "layout": "IPY_MODEL_302531aa4539438fb5e99ca071b357b9",
            "_model_module": "@jupyter-widgets/controls",
            "children": [
              "IPY_MODEL_efa6d1918fa840918c395c169cd7f9a7",
              "IPY_MODEL_e3718c2efb404b428742a8b21a9594ab"
            ]
          }
        },
        "302531aa4539438fb5e99ca071b357b9": {
          "model_module": "@jupyter-widgets/base",
          "model_name": "LayoutModel",
          "state": {
            "_view_name": "LayoutView",
            "grid_template_rows": null,
            "right": null,
            "justify_content": null,
            "_view_module": "@jupyter-widgets/base",
            "overflow": null,
            "_model_module_version": "1.2.0",
            "_view_count": null,
            "flex_flow": null,
            "width": null,
            "min_width": null,
            "border": null,
            "align_items": null,
            "bottom": null,
            "_model_module": "@jupyter-widgets/base",
            "top": null,
            "grid_column": null,
            "overflow_y": null,
            "overflow_x": null,
            "grid_auto_flow": null,
            "grid_area": null,
            "grid_template_columns": null,
            "flex": null,
            "_model_name": "LayoutModel",
            "justify_items": null,
            "grid_row": null,
            "max_height": null,
            "align_content": null,
            "visibility": null,
            "align_self": null,
            "height": null,
            "min_height": null,
            "padding": null,
            "grid_auto_rows": null,
            "grid_gap": null,
            "max_width": null,
            "order": null,
            "_view_module_version": "1.2.0",
            "grid_template_areas": null,
            "object_position": null,
            "object_fit": null,
            "grid_auto_columns": null,
            "margin": null,
            "display": null,
            "left": null
          }
        },
        "efa6d1918fa840918c395c169cd7f9a7": {
          "model_module": "@jupyter-widgets/controls",
          "model_name": "FloatProgressModel",
          "state": {
            "_view_name": "ProgressView",
            "style": "IPY_MODEL_deacccbe14984226af9cf4359e1e1758",
            "_dom_classes": [],
            "description": "Downloading: 100%",
            "_model_name": "FloatProgressModel",
            "bar_style": "success",
            "max": 898823,
            "_view_module": "@jupyter-widgets/controls",
            "_model_module_version": "1.5.0",
            "value": 898823,
            "_view_count": null,
            "_view_module_version": "1.5.0",
            "orientation": "horizontal",
            "min": 0,
            "description_tooltip": null,
            "_model_module": "@jupyter-widgets/controls",
            "layout": "IPY_MODEL_62f1aafa935546c9939e4cb40811de1e"
          }
        },
        "e3718c2efb404b428742a8b21a9594ab": {
          "model_module": "@jupyter-widgets/controls",
          "model_name": "HTMLModel",
          "state": {
            "_view_name": "HTMLView",
            "style": "IPY_MODEL_316954751e9a4c97b0e224b7f70ad881",
            "_dom_classes": [],
            "description": "",
            "_model_name": "HTMLModel",
            "placeholder": "​",
            "_view_module": "@jupyter-widgets/controls",
            "_model_module_version": "1.5.0",
            "value": " 899k/899k [00:03&lt;00:00, 283kB/s]",
            "_view_count": null,
            "_view_module_version": "1.5.0",
            "description_tooltip": null,
            "_model_module": "@jupyter-widgets/controls",
            "layout": "IPY_MODEL_c1d5725c4e364e948dae7f97de3ab1e9"
          }
        },
        "deacccbe14984226af9cf4359e1e1758": {
          "model_module": "@jupyter-widgets/controls",
          "model_name": "ProgressStyleModel",
          "state": {
            "_view_name": "StyleView",
            "_model_name": "ProgressStyleModel",
            "description_width": "initial",
            "_view_module": "@jupyter-widgets/base",
            "_model_module_version": "1.5.0",
            "_view_count": null,
            "_view_module_version": "1.2.0",
            "bar_color": null,
            "_model_module": "@jupyter-widgets/controls"
          }
        },
        "62f1aafa935546c9939e4cb40811de1e": {
          "model_module": "@jupyter-widgets/base",
          "model_name": "LayoutModel",
          "state": {
            "_view_name": "LayoutView",
            "grid_template_rows": null,
            "right": null,
            "justify_content": null,
            "_view_module": "@jupyter-widgets/base",
            "overflow": null,
            "_model_module_version": "1.2.0",
            "_view_count": null,
            "flex_flow": null,
            "width": null,
            "min_width": null,
            "border": null,
            "align_items": null,
            "bottom": null,
            "_model_module": "@jupyter-widgets/base",
            "top": null,
            "grid_column": null,
            "overflow_y": null,
            "overflow_x": null,
            "grid_auto_flow": null,
            "grid_area": null,
            "grid_template_columns": null,
            "flex": null,
            "_model_name": "LayoutModel",
            "justify_items": null,
            "grid_row": null,
            "max_height": null,
            "align_content": null,
            "visibility": null,
            "align_self": null,
            "height": null,
            "min_height": null,
            "padding": null,
            "grid_auto_rows": null,
            "grid_gap": null,
            "max_width": null,
            "order": null,
            "_view_module_version": "1.2.0",
            "grid_template_areas": null,
            "object_position": null,
            "object_fit": null,
            "grid_auto_columns": null,
            "margin": null,
            "display": null,
            "left": null
          }
        },
        "316954751e9a4c97b0e224b7f70ad881": {
          "model_module": "@jupyter-widgets/controls",
          "model_name": "DescriptionStyleModel",
          "state": {
            "_view_name": "StyleView",
            "_model_name": "DescriptionStyleModel",
            "description_width": "",
            "_view_module": "@jupyter-widgets/base",
            "_model_module_version": "1.5.0",
            "_view_count": null,
            "_view_module_version": "1.2.0",
            "_model_module": "@jupyter-widgets/controls"
          }
        },
        "c1d5725c4e364e948dae7f97de3ab1e9": {
          "model_module": "@jupyter-widgets/base",
          "model_name": "LayoutModel",
          "state": {
            "_view_name": "LayoutView",
            "grid_template_rows": null,
            "right": null,
            "justify_content": null,
            "_view_module": "@jupyter-widgets/base",
            "overflow": null,
            "_model_module_version": "1.2.0",
            "_view_count": null,
            "flex_flow": null,
            "width": null,
            "min_width": null,
            "border": null,
            "align_items": null,
            "bottom": null,
            "_model_module": "@jupyter-widgets/base",
            "top": null,
            "grid_column": null,
            "overflow_y": null,
            "overflow_x": null,
            "grid_auto_flow": null,
            "grid_area": null,
            "grid_template_columns": null,
            "flex": null,
            "_model_name": "LayoutModel",
            "justify_items": null,
            "grid_row": null,
            "max_height": null,
            "align_content": null,
            "visibility": null,
            "align_self": null,
            "height": null,
            "min_height": null,
            "padding": null,
            "grid_auto_rows": null,
            "grid_gap": null,
            "max_width": null,
            "order": null,
            "_view_module_version": "1.2.0",
            "grid_template_areas": null,
            "object_position": null,
            "object_fit": null,
            "grid_auto_columns": null,
            "margin": null,
            "display": null,
            "left": null
          }
        },
        "2a9172c3720d4f6e8b2b0ced3f102b32": {
          "model_module": "@jupyter-widgets/controls",
          "model_name": "HBoxModel",
          "state": {
            "_view_name": "HBoxView",
            "_dom_classes": [],
            "_model_name": "HBoxModel",
            "_view_module": "@jupyter-widgets/controls",
            "_model_module_version": "1.5.0",
            "_view_count": null,
            "_view_module_version": "1.5.0",
            "box_style": "",
            "layout": "IPY_MODEL_537905ba63f94605aa588ae635dc3ff1",
            "_model_module": "@jupyter-widgets/controls",
            "children": [
              "IPY_MODEL_74699565a9624813a9fcf178a5c966c4",
              "IPY_MODEL_bb7c35c735a841ddb624590cac5370ed"
            ]
          }
        },
        "537905ba63f94605aa588ae635dc3ff1": {
          "model_module": "@jupyter-widgets/base",
          "model_name": "LayoutModel",
          "state": {
            "_view_name": "LayoutView",
            "grid_template_rows": null,
            "right": null,
            "justify_content": null,
            "_view_module": "@jupyter-widgets/base",
            "overflow": null,
            "_model_module_version": "1.2.0",
            "_view_count": null,
            "flex_flow": null,
            "width": null,
            "min_width": null,
            "border": null,
            "align_items": null,
            "bottom": null,
            "_model_module": "@jupyter-widgets/base",
            "top": null,
            "grid_column": null,
            "overflow_y": null,
            "overflow_x": null,
            "grid_auto_flow": null,
            "grid_area": null,
            "grid_template_columns": null,
            "flex": null,
            "_model_name": "LayoutModel",
            "justify_items": null,
            "grid_row": null,
            "max_height": null,
            "align_content": null,
            "visibility": null,
            "align_self": null,
            "height": null,
            "min_height": null,
            "padding": null,
            "grid_auto_rows": null,
            "grid_gap": null,
            "max_width": null,
            "order": null,
            "_view_module_version": "1.2.0",
            "grid_template_areas": null,
            "object_position": null,
            "object_fit": null,
            "grid_auto_columns": null,
            "margin": null,
            "display": null,
            "left": null
          }
        },
        "74699565a9624813a9fcf178a5c966c4": {
          "model_module": "@jupyter-widgets/controls",
          "model_name": "FloatProgressModel",
          "state": {
            "_view_name": "ProgressView",
            "style": "IPY_MODEL_b316fff8724d4bab8aa1529eefdce5fc",
            "_dom_classes": [],
            "description": "Downloading: 100%",
            "_model_name": "FloatProgressModel",
            "bar_style": "success",
            "max": 456318,
            "_view_module": "@jupyter-widgets/controls",
            "_model_module_version": "1.5.0",
            "value": 456318,
            "_view_count": null,
            "_view_module_version": "1.5.0",
            "orientation": "horizontal",
            "min": 0,
            "description_tooltip": null,
            "_model_module": "@jupyter-widgets/controls",
            "layout": "IPY_MODEL_e51e71a7e5fd4a1ba0aeb8ad022137b3"
          }
        },
        "bb7c35c735a841ddb624590cac5370ed": {
          "model_module": "@jupyter-widgets/controls",
          "model_name": "HTMLModel",
          "state": {
            "_view_name": "HTMLView",
            "style": "IPY_MODEL_7eeb83594b4b486a83f381ce933f55e1",
            "_dom_classes": [],
            "description": "",
            "_model_name": "HTMLModel",
            "placeholder": "​",
            "_view_module": "@jupyter-widgets/controls",
            "_model_module_version": "1.5.0",
            "value": " 456k/456k [00:01&lt;00:00, 388kB/s]",
            "_view_count": null,
            "_view_module_version": "1.5.0",
            "description_tooltip": null,
            "_model_module": "@jupyter-widgets/controls",
            "layout": "IPY_MODEL_6bcc1b70abf64ef8bff70996907fb52a"
          }
        },
        "b316fff8724d4bab8aa1529eefdce5fc": {
          "model_module": "@jupyter-widgets/controls",
          "model_name": "ProgressStyleModel",
          "state": {
            "_view_name": "StyleView",
            "_model_name": "ProgressStyleModel",
            "description_width": "initial",
            "_view_module": "@jupyter-widgets/base",
            "_model_module_version": "1.5.0",
            "_view_count": null,
            "_view_module_version": "1.2.0",
            "bar_color": null,
            "_model_module": "@jupyter-widgets/controls"
          }
        },
        "e51e71a7e5fd4a1ba0aeb8ad022137b3": {
          "model_module": "@jupyter-widgets/base",
          "model_name": "LayoutModel",
          "state": {
            "_view_name": "LayoutView",
            "grid_template_rows": null,
            "right": null,
            "justify_content": null,
            "_view_module": "@jupyter-widgets/base",
            "overflow": null,
            "_model_module_version": "1.2.0",
            "_view_count": null,
            "flex_flow": null,
            "width": null,
            "min_width": null,
            "border": null,
            "align_items": null,
            "bottom": null,
            "_model_module": "@jupyter-widgets/base",
            "top": null,
            "grid_column": null,
            "overflow_y": null,
            "overflow_x": null,
            "grid_auto_flow": null,
            "grid_area": null,
            "grid_template_columns": null,
            "flex": null,
            "_model_name": "LayoutModel",
            "justify_items": null,
            "grid_row": null,
            "max_height": null,
            "align_content": null,
            "visibility": null,
            "align_self": null,
            "height": null,
            "min_height": null,
            "padding": null,
            "grid_auto_rows": null,
            "grid_gap": null,
            "max_width": null,
            "order": null,
            "_view_module_version": "1.2.0",
            "grid_template_areas": null,
            "object_position": null,
            "object_fit": null,
            "grid_auto_columns": null,
            "margin": null,
            "display": null,
            "left": null
          }
        },
        "7eeb83594b4b486a83f381ce933f55e1": {
          "model_module": "@jupyter-widgets/controls",
          "model_name": "DescriptionStyleModel",
          "state": {
            "_view_name": "StyleView",
            "_model_name": "DescriptionStyleModel",
            "description_width": "",
            "_view_module": "@jupyter-widgets/base",
            "_model_module_version": "1.5.0",
            "_view_count": null,
            "_view_module_version": "1.2.0",
            "_model_module": "@jupyter-widgets/controls"
          }
        },
        "6bcc1b70abf64ef8bff70996907fb52a": {
          "model_module": "@jupyter-widgets/base",
          "model_name": "LayoutModel",
          "state": {
            "_view_name": "LayoutView",
            "grid_template_rows": null,
            "right": null,
            "justify_content": null,
            "_view_module": "@jupyter-widgets/base",
            "overflow": null,
            "_model_module_version": "1.2.0",
            "_view_count": null,
            "flex_flow": null,
            "width": null,
            "min_width": null,
            "border": null,
            "align_items": null,
            "bottom": null,
            "_model_module": "@jupyter-widgets/base",
            "top": null,
            "grid_column": null,
            "overflow_y": null,
            "overflow_x": null,
            "grid_auto_flow": null,
            "grid_area": null,
            "grid_template_columns": null,
            "flex": null,
            "_model_name": "LayoutModel",
            "justify_items": null,
            "grid_row": null,
            "max_height": null,
            "align_content": null,
            "visibility": null,
            "align_self": null,
            "height": null,
            "min_height": null,
            "padding": null,
            "grid_auto_rows": null,
            "grid_gap": null,
            "max_width": null,
            "order": null,
            "_view_module_version": "1.2.0",
            "grid_template_areas": null,
            "object_position": null,
            "object_fit": null,
            "grid_auto_columns": null,
            "margin": null,
            "display": null,
            "left": null
          }
        },
        "681ecd418d0a43089dc3304cb612a6a4": {
          "model_module": "@jupyter-widgets/controls",
          "model_name": "HBoxModel",
          "state": {
            "_view_name": "HBoxView",
            "_dom_classes": [],
            "_model_name": "HBoxModel",
            "_view_module": "@jupyter-widgets/controls",
            "_model_module_version": "1.5.0",
            "_view_count": null,
            "_view_module_version": "1.5.0",
            "box_style": "",
            "layout": "IPY_MODEL_b195d81a10164ecf8779f4f7cc51e7c3",
            "_model_module": "@jupyter-widgets/controls",
            "children": [
              "IPY_MODEL_7de18c66a5c643b0bfb3fca122cc88d5",
              "IPY_MODEL_9c183df575234c1993d16129401dd2a7"
            ]
          }
        },
        "b195d81a10164ecf8779f4f7cc51e7c3": {
          "model_module": "@jupyter-widgets/base",
          "model_name": "LayoutModel",
          "state": {
            "_view_name": "LayoutView",
            "grid_template_rows": null,
            "right": null,
            "justify_content": null,
            "_view_module": "@jupyter-widgets/base",
            "overflow": null,
            "_model_module_version": "1.2.0",
            "_view_count": null,
            "flex_flow": null,
            "width": null,
            "min_width": null,
            "border": null,
            "align_items": null,
            "bottom": null,
            "_model_module": "@jupyter-widgets/base",
            "top": null,
            "grid_column": null,
            "overflow_y": null,
            "overflow_x": null,
            "grid_auto_flow": null,
            "grid_area": null,
            "grid_template_columns": null,
            "flex": null,
            "_model_name": "LayoutModel",
            "justify_items": null,
            "grid_row": null,
            "max_height": null,
            "align_content": null,
            "visibility": null,
            "align_self": null,
            "height": null,
            "min_height": null,
            "padding": null,
            "grid_auto_rows": null,
            "grid_gap": null,
            "max_width": null,
            "order": null,
            "_view_module_version": "1.2.0",
            "grid_template_areas": null,
            "object_position": null,
            "object_fit": null,
            "grid_auto_columns": null,
            "margin": null,
            "display": null,
            "left": null
          }
        },
        "7de18c66a5c643b0bfb3fca122cc88d5": {
          "model_module": "@jupyter-widgets/controls",
          "model_name": "FloatProgressModel",
          "state": {
            "_view_name": "ProgressView",
            "style": "IPY_MODEL_87ed16a4d1374173921008dea7c5318f",
            "_dom_classes": [],
            "description": "Downloading: 100%",
            "_model_name": "FloatProgressModel",
            "bar_style": "success",
            "max": 1300,
            "_view_module": "@jupyter-widgets/controls",
            "_model_module_version": "1.5.0",
            "value": 1300,
            "_view_count": null,
            "_view_module_version": "1.5.0",
            "orientation": "horizontal",
            "min": 0,
            "description_tooltip": null,
            "_model_module": "@jupyter-widgets/controls",
            "layout": "IPY_MODEL_96a298a4105d407f9f9cd5c0c4fc34bd"
          }
        },
        "9c183df575234c1993d16129401dd2a7": {
          "model_module": "@jupyter-widgets/controls",
          "model_name": "HTMLModel",
          "state": {
            "_view_name": "HTMLView",
            "style": "IPY_MODEL_ec3073e812944b3a945819844a189759",
            "_dom_classes": [],
            "description": "",
            "_model_name": "HTMLModel",
            "placeholder": "​",
            "_view_module": "@jupyter-widgets/controls",
            "_model_module_version": "1.5.0",
            "value": " 1.30k/1.30k [00:34&lt;00:00, 38.0B/s]",
            "_view_count": null,
            "_view_module_version": "1.5.0",
            "description_tooltip": null,
            "_model_module": "@jupyter-widgets/controls",
            "layout": "IPY_MODEL_1cb821cc9c5e4f2694f32c964fadbfc4"
          }
        },
        "87ed16a4d1374173921008dea7c5318f": {
          "model_module": "@jupyter-widgets/controls",
          "model_name": "ProgressStyleModel",
          "state": {
            "_view_name": "StyleView",
            "_model_name": "ProgressStyleModel",
            "description_width": "initial",
            "_view_module": "@jupyter-widgets/base",
            "_model_module_version": "1.5.0",
            "_view_count": null,
            "_view_module_version": "1.2.0",
            "bar_color": null,
            "_model_module": "@jupyter-widgets/controls"
          }
        },
        "96a298a4105d407f9f9cd5c0c4fc34bd": {
          "model_module": "@jupyter-widgets/base",
          "model_name": "LayoutModel",
          "state": {
            "_view_name": "LayoutView",
            "grid_template_rows": null,
            "right": null,
            "justify_content": null,
            "_view_module": "@jupyter-widgets/base",
            "overflow": null,
            "_model_module_version": "1.2.0",
            "_view_count": null,
            "flex_flow": null,
            "width": null,
            "min_width": null,
            "border": null,
            "align_items": null,
            "bottom": null,
            "_model_module": "@jupyter-widgets/base",
            "top": null,
            "grid_column": null,
            "overflow_y": null,
            "overflow_x": null,
            "grid_auto_flow": null,
            "grid_area": null,
            "grid_template_columns": null,
            "flex": null,
            "_model_name": "LayoutModel",
            "justify_items": null,
            "grid_row": null,
            "max_height": null,
            "align_content": null,
            "visibility": null,
            "align_self": null,
            "height": null,
            "min_height": null,
            "padding": null,
            "grid_auto_rows": null,
            "grid_gap": null,
            "max_width": null,
            "order": null,
            "_view_module_version": "1.2.0",
            "grid_template_areas": null,
            "object_position": null,
            "object_fit": null,
            "grid_auto_columns": null,
            "margin": null,
            "display": null,
            "left": null
          }
        },
        "ec3073e812944b3a945819844a189759": {
          "model_module": "@jupyter-widgets/controls",
          "model_name": "DescriptionStyleModel",
          "state": {
            "_view_name": "StyleView",
            "_model_name": "DescriptionStyleModel",
            "description_width": "",
            "_view_module": "@jupyter-widgets/base",
            "_model_module_version": "1.5.0",
            "_view_count": null,
            "_view_module_version": "1.2.0",
            "_model_module": "@jupyter-widgets/controls"
          }
        },
        "1cb821cc9c5e4f2694f32c964fadbfc4": {
          "model_module": "@jupyter-widgets/base",
          "model_name": "LayoutModel",
          "state": {
            "_view_name": "LayoutView",
            "grid_template_rows": null,
            "right": null,
            "justify_content": null,
            "_view_module": "@jupyter-widgets/base",
            "overflow": null,
            "_model_module_version": "1.2.0",
            "_view_count": null,
            "flex_flow": null,
            "width": null,
            "min_width": null,
            "border": null,
            "align_items": null,
            "bottom": null,
            "_model_module": "@jupyter-widgets/base",
            "top": null,
            "grid_column": null,
            "overflow_y": null,
            "overflow_x": null,
            "grid_auto_flow": null,
            "grid_area": null,
            "grid_template_columns": null,
            "flex": null,
            "_model_name": "LayoutModel",
            "justify_items": null,
            "grid_row": null,
            "max_height": null,
            "align_content": null,
            "visibility": null,
            "align_self": null,
            "height": null,
            "min_height": null,
            "padding": null,
            "grid_auto_rows": null,
            "grid_gap": null,
            "max_width": null,
            "order": null,
            "_view_module_version": "1.2.0",
            "grid_template_areas": null,
            "object_position": null,
            "object_fit": null,
            "grid_auto_columns": null,
            "margin": null,
            "display": null,
            "left": null
          }
        },
        "c8a3790a217f4f839dbff596549b9bc1": {
          "model_module": "@jupyter-widgets/controls",
          "model_name": "HBoxModel",
          "state": {
            "_view_name": "HBoxView",
            "_dom_classes": [],
            "_model_name": "HBoxModel",
            "_view_module": "@jupyter-widgets/controls",
            "_model_module_version": "1.5.0",
            "_view_count": null,
            "_view_module_version": "1.5.0",
            "box_style": "",
            "layout": "IPY_MODEL_ead7ef327db34784bfc90a0ec957f632",
            "_model_module": "@jupyter-widgets/controls",
            "children": [
              "IPY_MODEL_681b9480cac24ff7b408e84987cb88bb",
              "IPY_MODEL_89947836a6cd49f6968acd2e345d9ab2"
            ]
          }
        },
        "ead7ef327db34784bfc90a0ec957f632": {
          "model_module": "@jupyter-widgets/base",
          "model_name": "LayoutModel",
          "state": {
            "_view_name": "LayoutView",
            "grid_template_rows": null,
            "right": null,
            "justify_content": null,
            "_view_module": "@jupyter-widgets/base",
            "overflow": null,
            "_model_module_version": "1.2.0",
            "_view_count": null,
            "flex_flow": null,
            "width": null,
            "min_width": null,
            "border": null,
            "align_items": null,
            "bottom": null,
            "_model_module": "@jupyter-widgets/base",
            "top": null,
            "grid_column": null,
            "overflow_y": null,
            "overflow_x": null,
            "grid_auto_flow": null,
            "grid_area": null,
            "grid_template_columns": null,
            "flex": null,
            "_model_name": "LayoutModel",
            "justify_items": null,
            "grid_row": null,
            "max_height": null,
            "align_content": null,
            "visibility": null,
            "align_self": null,
            "height": null,
            "min_height": null,
            "padding": null,
            "grid_auto_rows": null,
            "grid_gap": null,
            "max_width": null,
            "order": null,
            "_view_module_version": "1.2.0",
            "grid_template_areas": null,
            "object_position": null,
            "object_fit": null,
            "grid_auto_columns": null,
            "margin": null,
            "display": null,
            "left": null
          }
        },
        "681b9480cac24ff7b408e84987cb88bb": {
          "model_module": "@jupyter-widgets/controls",
          "model_name": "FloatProgressModel",
          "state": {
            "_view_name": "ProgressView",
            "style": "IPY_MODEL_063e437f061844a29c308f4619b6a591",
            "_dom_classes": [],
            "description": "Downloading: 100%",
            "_model_name": "FloatProgressModel",
            "bar_style": "success",
            "max": 1625270765,
            "_view_module": "@jupyter-widgets/controls",
            "_model_module_version": "1.5.0",
            "value": 1625270765,
            "_view_count": null,
            "_view_module_version": "1.5.0",
            "orientation": "horizontal",
            "min": 0,
            "description_tooltip": null,
            "_model_module": "@jupyter-widgets/controls",
            "layout": "IPY_MODEL_6ce6524121a54fb893bdda6486816ac1"
          }
        },
        "89947836a6cd49f6968acd2e345d9ab2": {
          "model_module": "@jupyter-widgets/controls",
          "model_name": "HTMLModel",
          "state": {
            "_view_name": "HTMLView",
            "style": "IPY_MODEL_fe0e779ecdf548fe939d299169b4a9a0",
            "_dom_classes": [],
            "description": "",
            "_model_name": "HTMLModel",
            "placeholder": "​",
            "_view_module": "@jupyter-widgets/controls",
            "_model_module_version": "1.5.0",
            "value": " 1.63G/1.63G [00:24&lt;00:00, 65.5MB/s]",
            "_view_count": null,
            "_view_module_version": "1.5.0",
            "description_tooltip": null,
            "_model_module": "@jupyter-widgets/controls",
            "layout": "IPY_MODEL_c986f22646964a629cfd0faf394ba2f8"
          }
        },
        "063e437f061844a29c308f4619b6a591": {
          "model_module": "@jupyter-widgets/controls",
          "model_name": "ProgressStyleModel",
          "state": {
            "_view_name": "StyleView",
            "_model_name": "ProgressStyleModel",
            "description_width": "initial",
            "_view_module": "@jupyter-widgets/base",
            "_model_module_version": "1.5.0",
            "_view_count": null,
            "_view_module_version": "1.2.0",
            "bar_color": null,
            "_model_module": "@jupyter-widgets/controls"
          }
        },
        "6ce6524121a54fb893bdda6486816ac1": {
          "model_module": "@jupyter-widgets/base",
          "model_name": "LayoutModel",
          "state": {
            "_view_name": "LayoutView",
            "grid_template_rows": null,
            "right": null,
            "justify_content": null,
            "_view_module": "@jupyter-widgets/base",
            "overflow": null,
            "_model_module_version": "1.2.0",
            "_view_count": null,
            "flex_flow": null,
            "width": null,
            "min_width": null,
            "border": null,
            "align_items": null,
            "bottom": null,
            "_model_module": "@jupyter-widgets/base",
            "top": null,
            "grid_column": null,
            "overflow_y": null,
            "overflow_x": null,
            "grid_auto_flow": null,
            "grid_area": null,
            "grid_template_columns": null,
            "flex": null,
            "_model_name": "LayoutModel",
            "justify_items": null,
            "grid_row": null,
            "max_height": null,
            "align_content": null,
            "visibility": null,
            "align_self": null,
            "height": null,
            "min_height": null,
            "padding": null,
            "grid_auto_rows": null,
            "grid_gap": null,
            "max_width": null,
            "order": null,
            "_view_module_version": "1.2.0",
            "grid_template_areas": null,
            "object_position": null,
            "object_fit": null,
            "grid_auto_columns": null,
            "margin": null,
            "display": null,
            "left": null
          }
        },
        "fe0e779ecdf548fe939d299169b4a9a0": {
          "model_module": "@jupyter-widgets/controls",
          "model_name": "DescriptionStyleModel",
          "state": {
            "_view_name": "StyleView",
            "_model_name": "DescriptionStyleModel",
            "description_width": "",
            "_view_module": "@jupyter-widgets/base",
            "_model_module_version": "1.5.0",
            "_view_count": null,
            "_view_module_version": "1.2.0",
            "_model_module": "@jupyter-widgets/controls"
          }
        },
        "c986f22646964a629cfd0faf394ba2f8": {
          "model_module": "@jupyter-widgets/base",
          "model_name": "LayoutModel",
          "state": {
            "_view_name": "LayoutView",
            "grid_template_rows": null,
            "right": null,
            "justify_content": null,
            "_view_module": "@jupyter-widgets/base",
            "overflow": null,
            "_model_module_version": "1.2.0",
            "_view_count": null,
            "flex_flow": null,
            "width": null,
            "min_width": null,
            "border": null,
            "align_items": null,
            "bottom": null,
            "_model_module": "@jupyter-widgets/base",
            "top": null,
            "grid_column": null,
            "overflow_y": null,
            "overflow_x": null,
            "grid_auto_flow": null,
            "grid_area": null,
            "grid_template_columns": null,
            "flex": null,
            "_model_name": "LayoutModel",
            "justify_items": null,
            "grid_row": null,
            "max_height": null,
            "align_content": null,
            "visibility": null,
            "align_self": null,
            "height": null,
            "min_height": null,
            "padding": null,
            "grid_auto_rows": null,
            "grid_gap": null,
            "max_width": null,
            "order": null,
            "_view_module_version": "1.2.0",
            "grid_template_areas": null,
            "object_position": null,
            "object_fit": null,
            "grid_auto_columns": null,
            "margin": null,
            "display": null,
            "left": null
          }
        }
      }
    }
  },
  "cells": [
    {
      "cell_type": "markdown",
      "metadata": {
        "id": "view-in-github",
        "colab_type": "text"
      },
      "source": [
        "<a href=\"https://colab.research.google.com/github/sayarghoshroy/Summaformers/blob/main/laySumm_train.ipynb\" target=\"_parent\"><img src=\"https://colab.research.google.com/assets/colab-badge.svg\" alt=\"Open In Colab\"/></a>"
      ]
    },
    {
      "cell_type": "code",
      "metadata": {
        "id": "KIeHBcCqg6JS"
      },
      "source": [
        "import numpy as np\n",
        "import pandas as pd\n",
        "import torch\n",
        "import torch.nn.functional as F\n",
        "from torch.utils.data import Dataset, DataLoader, RandomSampler, SequentialSampler\n",
        "import pickle as pkl\n",
        "!pip install rouge_score\n",
        "from rouge_score import rouge_scorer\n",
        "!pip install transformers\n",
        "from transformers import T5Tokenizer, T5ForConditionalGeneration\n",
        "from transformers import GPT2Model, GPT2Config, GPT2Tokenizer, GPT2Tokenizer, GPT2LMHeadModel\n",
        "from transformers import BartTokenizer, BartForConditionalGeneration\n",
        "import numpy as np\n",
        "from tqdm import tqdm_notebook\n",
        "\n",
        "import os\n",
        "from sklearn.model_selection import train_test_split"
      ],
      "execution_count": null,
      "outputs": []
    },
    {
      "cell_type": "code",
      "metadata": {
        "id": "kexHpE9elDvT",
        "colab": {
          "base_uri": "https://localhost:8080/",
          "height": 126
        },
        "outputId": "819e5f00-34d6-4545-9a37-e2514b713137"
      },
      "source": [
        "from google.colab import drive\n",
        "drive.mount('/content/drive')"
      ],
      "execution_count": null,
      "outputs": [
        {
          "output_type": "stream",
          "text": [
            "Go to this URL in a browser: https://accounts.google.com/o/oauth2/auth?client_id=947318989803-6bn6qk8qdgf4n4g3pfee6491hc0brc4i.apps.googleusercontent.com&redirect_uri=urn%3aietf%3awg%3aoauth%3a2.0%3aoob&scope=email%20https%3a%2f%2fwww.googleapis.com%2fauth%2fdocs.test%20https%3a%2f%2fwww.googleapis.com%2fauth%2fdrive%20https%3a%2f%2fwww.googleapis.com%2fauth%2fdrive.photos.readonly%20https%3a%2f%2fwww.googleapis.com%2fauth%2fpeopleapi.readonly&response_type=code\n",
            "\n",
            "Enter your authorization code:\n",
            "··········\n",
            "Mounted at /content/drive\n"
          ],
          "name": "stdout"
        }
      ]
    },
    {
      "cell_type": "code",
      "metadata": {
        "id": "AZ55pBk6k-dD",
        "colab": {
          "base_uri": "https://localhost:8080/",
          "height": 73
        },
        "outputId": "8135bd8f-112e-4954-c9d1-6ae962ea295e"
      },
      "source": [
        "filename = open(\"/content/drive/My Drive/Scientific_Doc_Summarization_Raw_Data/Pickled Datasets/laySumm_Train.pkl\",'rb')\n",
        "data = pkl.load(filename)\n",
        "\n",
        "print(\"Number of Datapoints:\", len(data))\n",
        "print(data[0]['laysumm']['laysumm'])"
      ],
      "execution_count": null,
      "outputs": [
        {
          "output_type": "stream",
          "text": [
            "Number of Datapoints: 572\n",
            "['PARAGRAPH', 'Neural networks have shown promising capabilities in dealing with nonlinear systems.', 'Combined with a dynamic part, they can learn and identify complicated systems.', 'On the other hand, fractional order differentiation has provided more degrees of freedom and therefore more accuracy for exploring the behaviour of dynamical systems.', 'This paper introduces a fractional order neural network capable of identifying complicated systems.', 'Input-output representational capacity is shown, learning rules for the parameters are derived and its performance on the real data of a 2.5MW wind turbine is examined.', 'The results are amazing and the method can be used for other industrial systems.']\n"
          ],
          "name": "stdout"
        }
      ]
    },
    {
      "cell_type": "code",
      "metadata": {
        "id": "iEAII3FOpO08",
        "colab": {
          "base_uri": "https://localhost:8080/",
          "height": 53
        },
        "outputId": "5a5279e7-ebae-4d94-f519-7d8f088a08d5"
      },
      "source": [
        "from nltk.tokenize import RegexpTokenizer\n",
        "tokenizer = RegexpTokenizer(r'\\w+')\n",
        "\n",
        "word_counts = []\n",
        "for i in range(572):\n",
        "  words = 0\n",
        "  for sent in data[i]['laysumm']['laysumm']:\n",
        "    tokens = tokenizer.tokenize(sent)\n",
        "    words += len(tokens)\n",
        "  word_counts.append(words)\n",
        "\n",
        "print(\"Average Number of Words:\")\n",
        "print(np.mean(np.asarray(word_counts)))"
      ],
      "execution_count": null,
      "outputs": [
        {
          "output_type": "stream",
          "text": [
            "Average Number of Words:\n",
            "86.3548951048951\n"
          ],
          "name": "stdout"
        }
      ]
    },
    {
      "cell_type": "markdown",
      "metadata": {
        "id": "4DSHx4j6g6Jf"
      },
      "source": [
        "### Get Dataset"
      ]
    },
    {
      "cell_type": "code",
      "metadata": {
        "id": "TPWNr-KZg6Js"
      },
      "source": [
        "with open('/content/drive/My Drive/Scientific_Doc_Summarization_Raw_Data/trainids.pkl','rb') as f:\n",
        "    train_ids = pkl.load(f)\n",
        "    \n",
        "with open('/content/drive/My Drive/Scientific_Doc_Summarization_Raw_Data/testids.pkl','rb') as f:\n",
        "    test_ids = pkl.load(f)"
      ],
      "execution_count": null,
      "outputs": []
    },
    {
      "cell_type": "code",
      "metadata": {
        "id": "S_fMzKD0g6J0"
      },
      "source": [
        "if torch.cuda.is_available():\n",
        "    device = \"cuda\"\n",
        "else:\n",
        "    device = \"cpu\""
      ],
      "execution_count": null,
      "outputs": []
    },
    {
      "cell_type": "code",
      "metadata": {
        "id": "9EWzQwLLvRvH",
        "colab": {
          "base_uri": "https://localhost:8080/",
          "height": 35
        },
        "outputId": "a288d980-abd1-403e-ab1e-416460d4522e"
      },
      "source": [
        "print(device)"
      ],
      "execution_count": null,
      "outputs": [
        {
          "output_type": "stream",
          "text": [
            "cuda\n"
          ],
          "name": "stdout"
        }
      ]
    },
    {
      "cell_type": "markdown",
      "metadata": {
        "id": "G9gTb3jqg6KJ"
      },
      "source": [
        "### Initialize Dataset Loader for training\n"
      ]
    },
    {
      "cell_type": "code",
      "metadata": {
        "id": "m6LgyxmZg6KM"
      },
      "source": [
        "def getRawDoc(doc):\n",
        "    rawdoc = ''\n",
        "    \n",
        "    for item in doc:\n",
        "        if type(item) == list:\n",
        "            rawdoc += ''.join(item[1:]) + ' '\n",
        "        else:\n",
        "            continue\n",
        "            \n",
        "    return rawdoc"
      ],
      "execution_count": null,
      "outputs": []
    },
    {
      "cell_type": "code",
      "metadata": {
        "id": "JHHwimKc2pa1",
        "colab": {
          "base_uri": "https://localhost:8080/",
          "height": 53
        },
        "outputId": "7a2831f4-7e5a-4053-b697-e69119d82c63"
      },
      "source": [
        "import nltk\n",
        "nltk.download('punkt')\n",
        "\n",
        "def get_text(units):\n",
        "    text = \"\"\n",
        "\n",
        "    # Only considering the first and the last paragraphs\n",
        "\n",
        "    count_pg = 0\n",
        "    pg_id = 0\n",
        "\n",
        "    for sent in units:\n",
        "        if sent == 'PARAGRAPH':\n",
        "            count_pg += 1\n",
        "    \n",
        "    for sent in units:\n",
        "        if sent == 'PARAGRAPH':\n",
        "            pg_id += 1\n",
        "            continue\n",
        "        \n",
        "        if pg_id != 1 and pg_id != 2 and pg_id != count_pg:\n",
        "          continue\n",
        "        \n",
        "        tokens = nltk.word_tokenize(sent)\n",
        "        \n",
        "        for token in tokens:\n",
        "            text += token.strip().rstrip(\"\\n\") + \" \"\n",
        "            \n",
        "    return text"
      ],
      "execution_count": null,
      "outputs": [
        {
          "output_type": "stream",
          "text": [
            "[nltk_data] Downloading package punkt to /root/nltk_data...\n",
            "[nltk_data]   Unzipping tokenizers/punkt.zip.\n"
          ],
          "name": "stdout"
        }
      ]
    },
    {
      "cell_type": "code",
      "metadata": {
        "id": "pNCJbFsng6KT"
      },
      "source": [
        "class CustomDataset(Dataset):\n",
        "    def __init__(self, dataframe, tokenizer, source_len, summ_len):\n",
        "        self.tokenizer = tokenizer\n",
        "        self.data = dataframe\n",
        "        self.source_len = source_len\n",
        "        self.summ_len = summ_len\n",
        "        self.text = self.data.text\n",
        "        self.ctext = self.data.ctext\n",
        "\n",
        "    def __len__(self):\n",
        "        return len(self.text)\n",
        "\n",
        "    def __getitem__(self, index):\n",
        "        ctext = str(self.ctext[index])\n",
        "        ctext = ' '.join(ctext.split())\n",
        "\n",
        "        text = str(self.text[index])\n",
        "        text = ' '.join(text.split())\n",
        "\n",
        "        source = self.tokenizer.batch_encode_plus([ctext], max_length= self.source_len, pad_to_max_length=True,return_tensors='pt', truncation=True)\n",
        "        target = self.tokenizer.batch_encode_plus([text], max_length= self.summ_len, pad_to_max_length=True,return_tensors='pt', truncation=True)\n",
        "\n",
        "        source_ids = source['input_ids'].squeeze()\n",
        "        source_mask = source['attention_mask'].squeeze()\n",
        "        target_ids = target['input_ids'].squeeze()\n",
        "        target_mask = target['attention_mask'].squeeze()\n",
        "\n",
        "        return {\n",
        "            'source_ids': source_ids.to(dtype=torch.long), \n",
        "            'source_mask': source_mask.to(dtype=torch.long), \n",
        "            'target_ids': target_ids.to(dtype=torch.long),\n",
        "            'target_ids_y': target_ids.to(dtype=torch.long)\n",
        "        }"
      ],
      "execution_count": null,
      "outputs": []
    },
    {
      "cell_type": "code",
      "metadata": {
        "id": "CVXjB7fKO9X2",
        "colab": {
          "base_uri": "https://localhost:8080/",
          "height": 107
        },
        "outputId": "1036d76a-c8c0-474e-b60f-6805a13d8b98"
      },
      "source": [
        "getRawDoc(list(data[0]['abstract'].values())).replace(\"\\n\",\" \").replace(\".\", \" . \").replace(\",\", \" ,\").replace(\"(\", \"( \").replace(\")\", \" )\")"
      ],
      "execution_count": null,
      "outputs": [
        {
          "output_type": "execute_result",
          "data": {
            "application/vnd.google.colaboratory.intrinsic+json": {
              "type": "string"
            },
            "text/plain": [
              "'In this paper , a Variable-Order Fractional Single-layer Neural Network ( VOFSNN ) and a Variable-Order Fractional Multi-layer Neural Network ( VOFMNN ) are proposed to identify nonlinear systems assuming all the system states are measurable . Fractional Lyapunov-like approach and Gronwall–Bellman integral inequality are employed to prove stability and asymptotic stability conditions of the identification error dynamics . A set of novel stable learning rules for the fractional order , the hidden layer weights and the output layer weights are derived to update the proposed VOFSNN and VOFMNN parameters . The proposed methods capabilities are evaluated and confirmed by the practical data gathered from a wind turbine under operation in a wind farm .  '"
            ]
          },
          "metadata": {
            "tags": []
          },
          "execution_count": 11
        }
      ]
    },
    {
      "cell_type": "code",
      "metadata": {
        "id": "_dTRJBjm9INP",
        "colab": {
          "base_uri": "https://localhost:8080/",
          "height": 107
        },
        "outputId": "43e7fe4b-e155-4918-b6dd-6de5c1e56869"
      },
      "source": [
        "get_text(data[0]['laysumm']['laysumm']).replace(\"\\n\",\" \")"
      ],
      "execution_count": null,
      "outputs": [
        {
          "output_type": "execute_result",
          "data": {
            "application/vnd.google.colaboratory.intrinsic+json": {
              "type": "string"
            },
            "text/plain": [
              "'Neural networks have shown promising capabilities in dealing with nonlinear systems . Combined with a dynamic part , they can learn and identify complicated systems . On the other hand , fractional order differentiation has provided more degrees of freedom and therefore more accuracy for exploring the behaviour of dynamical systems . This paper introduces a fractional order neural network capable of identifying complicated systems . Input-output representational capacity is shown , learning rules for the parameters are derived and its performance on the real data of a 2.5MW wind turbine is examined . The results are amazing and the method can be used for other industrial systems . '"
            ]
          },
          "metadata": {
            "tags": []
          },
          "execution_count": 12
        }
      ]
    },
    {
      "cell_type": "code",
      "metadata": {
        "id": "FjTIywRz0ulZ",
        "colab": {
          "base_uri": "https://localhost:8080/",
          "height": 144
        },
        "outputId": "738ae8d5-8dfb-4201-f529-93143fa6f974"
      },
      "source": [
        "get_text(data[0]['fulltext']['conclusion']).replace(\"\\n\",\" \")"
      ],
      "execution_count": null,
      "outputs": [
        {
          "output_type": "execute_result",
          "data": {
            "application/vnd.google.colaboratory.intrinsic+json": {
              "type": "string"
            },
            "text/plain": [
              "'This paper proposes two neuro-identifiers , namely , the VOFSNN and the VOFMNN , to identify a big enough class of fractional order nonlinear dynamic systems dealing with complex phenomena . Compared with the FONN structure used in the literature , the proposed identifier models various systems more accurate due to its rich structure . In addition , the fractional order is also updated based on a new proposed adaptation law . To prove the stability of the proposed algorithm , first , we give two Lyapunov functions . Then , by using fractional order differential equation analysis , Gronwall–Bellman inequality and some useful Lemmas , the stability conditions are determined . The new derived learning rules guarantee that the identification error and the parameters of identifiers remain bounded . To make a comparison between two proposed identifiers with IONN , the introduced algorithms are employed to identify a wind turbine using experimental data . The effectiveness of the proposed algorithms is verified based on the defined performance index . The results demonstrate the quality performance of the proposed methods . '"
            ]
          },
          "metadata": {
            "tags": []
          },
          "execution_count": 13
        }
      ]
    },
    {
      "cell_type": "code",
      "metadata": {
        "id": "JmfjSlt3g6Kd"
      },
      "source": [
        "# summaries = [getRawDoc(list(data['abstract'].values())).replace(\"\\n\",\" \")]\n",
        "summaries = {}\n",
        "text = {}\n",
        "count_blank = 0\n",
        "intros = 0\n",
        "missing_abs_ids = []\n",
        "\n",
        "for x in data:\n",
        "    doc = get_text(x['abstract']['abstract']).replace(\"\\n\",\" \")\n",
        "\n",
        "    if (doc.strip() == \"\"):\n",
        "      missing_abs_ids.append(x['id'])\n",
        "      count_blank += 1\n",
        "    \n",
        "    if 'conclusion' in x['fulltext'].keys():\n",
        "      doc_conc = get_text(x['fulltext']['conclusion']).replace(\"\\n\",\" \").replace(\"(\", \"( \").replace(\")\", \" )\")\n",
        "    elif 'conclusions' in x['fulltext'].keys():\n",
        "      doc_conc = get_text(x['fulltext']['conclusions']).replace(\"\\n\",\" \").replace(\"(\", \"( \").replace(\")\", \" )\")\n",
        "    else:\n",
        "      doc_conc = \"\"\n",
        "\n",
        "    if 'introduction' in x['fulltext'].keys():\n",
        "      intros += 1\n",
        "      doc_intro = get_text(x['fulltext']['introduction']).replace(\"\\n\",\" \")\n",
        "\n",
        "    else:\n",
        "      doc_intro = \"\"\n",
        "\n",
        "    doc = doc + \" \" + doc_intro + \" \" + doc_conc \n",
        "    \n",
        "    text[x['id']] = doc.strip()\n",
        "    \n",
        "    summaries[x['id']] = get_text(x['laysumm']['laysumm'])"
      ],
      "execution_count": null,
      "outputs": []
    },
    {
      "cell_type": "code",
      "metadata": {
        "id": "YuhFbMSGg6Kk"
      },
      "source": [
        "train_dataset = pd.DataFrame([[summaries[x],text[x]] for x in train_ids], columns = ['text', 'ctext']) \n",
        "val_dataset = pd.DataFrame([[summaries[x],text[x]] for x in test_ids], columns = ['text', 'ctext']) "
      ],
      "execution_count": null,
      "outputs": []
    },
    {
      "cell_type": "markdown",
      "metadata": {
        "id": "6WxdsQxDg6Kq"
      },
      "source": [
        "### Initialize Model Instance"
      ]
    },
    {
      "cell_type": "code",
      "metadata": {
        "id": "l8sUeYmOg6Kr"
      },
      "source": [
        "modelname = 'bart'"
      ],
      "execution_count": null,
      "outputs": []
    },
    {
      "cell_type": "code",
      "metadata": {
        "scrolled": true,
        "id": "dQD5ZD69g6Kx",
        "colab": {
          "base_uri": "https://localhost:8080/",
          "height": 272,
          "referenced_widgets": [
            "1a9f48fa35674f5b937ce83650459fa9",
            "302531aa4539438fb5e99ca071b357b9",
            "efa6d1918fa840918c395c169cd7f9a7",
            "e3718c2efb404b428742a8b21a9594ab",
            "deacccbe14984226af9cf4359e1e1758",
            "62f1aafa935546c9939e4cb40811de1e",
            "316954751e9a4c97b0e224b7f70ad881",
            "c1d5725c4e364e948dae7f97de3ab1e9",
            "2a9172c3720d4f6e8b2b0ced3f102b32",
            "537905ba63f94605aa588ae635dc3ff1",
            "74699565a9624813a9fcf178a5c966c4",
            "bb7c35c735a841ddb624590cac5370ed",
            "b316fff8724d4bab8aa1529eefdce5fc",
            "e51e71a7e5fd4a1ba0aeb8ad022137b3",
            "7eeb83594b4b486a83f381ce933f55e1",
            "6bcc1b70abf64ef8bff70996907fb52a",
            "681ecd418d0a43089dc3304cb612a6a4",
            "b195d81a10164ecf8779f4f7cc51e7c3",
            "7de18c66a5c643b0bfb3fca122cc88d5",
            "9c183df575234c1993d16129401dd2a7",
            "87ed16a4d1374173921008dea7c5318f",
            "96a298a4105d407f9f9cd5c0c4fc34bd",
            "ec3073e812944b3a945819844a189759",
            "1cb821cc9c5e4f2694f32c964fadbfc4",
            "c8a3790a217f4f839dbff596549b9bc1",
            "ead7ef327db34784bfc90a0ec957f632",
            "681b9480cac24ff7b408e84987cb88bb",
            "89947836a6cd49f6968acd2e345d9ab2",
            "063e437f061844a29c308f4619b6a591",
            "6ce6524121a54fb893bdda6486816ac1",
            "fe0e779ecdf548fe939d299169b4a9a0",
            "c986f22646964a629cfd0faf394ba2f8"
          ]
        },
        "outputId": "c7f9b32d-430a-4ae8-8fe4-9f08102d210c"
      },
      "source": [
        "if modelname == 't5':\n",
        "    tokenizer = T5Tokenizer.from_pretrained('t5-base')\n",
        "    model = T5ForConditionalGeneration.from_pretrained('t5-base').to(device)\n",
        "\n",
        "if modelname == 'gpt2':\n",
        "    tokenizer = GPT2Tokenizer.from_pretrained('gpt2')\n",
        "    model = GPT2LMHeadModel.from_pretrained('gpt2').to(device)\n",
        "    tokenizer.pad_token = tokenizer.eos_token\n",
        "    \n",
        "if modelname == 'bart':\n",
        "    tokenizer = BartTokenizer.from_pretrained('facebook/bart-large-xsum')\n",
        "    model = BartForConditionalGeneration.from_pretrained('facebook/bart-large-xsum').to(device)\n",
        "    # model_statedict_path = \"drive/My Drive/Scientific_Doc_Summarization_Raw_Data/Saved Models/BEST_bart_abs2sum_three_tune.pt\"\n",
        "    # model.load_state_dict(torch.load(model_statedict_path))"
      ],
      "execution_count": null,
      "outputs": [
        {
          "output_type": "display_data",
          "data": {
            "application/vnd.jupyter.widget-view+json": {
              "model_id": "1a9f48fa35674f5b937ce83650459fa9",
              "version_minor": 0,
              "version_major": 2
            },
            "text/plain": [
              "HBox(children=(FloatProgress(value=0.0, description='Downloading', max=898823.0, style=ProgressStyle(descripti…"
            ]
          },
          "metadata": {
            "tags": []
          }
        },
        {
          "output_type": "stream",
          "text": [
            "\n"
          ],
          "name": "stdout"
        },
        {
          "output_type": "display_data",
          "data": {
            "application/vnd.jupyter.widget-view+json": {
              "model_id": "2a9172c3720d4f6e8b2b0ced3f102b32",
              "version_minor": 0,
              "version_major": 2
            },
            "text/plain": [
              "HBox(children=(FloatProgress(value=0.0, description='Downloading', max=456318.0, style=ProgressStyle(descripti…"
            ]
          },
          "metadata": {
            "tags": []
          }
        },
        {
          "output_type": "stream",
          "text": [
            "\n"
          ],
          "name": "stdout"
        },
        {
          "output_type": "display_data",
          "data": {
            "application/vnd.jupyter.widget-view+json": {
              "model_id": "681ecd418d0a43089dc3304cb612a6a4",
              "version_minor": 0,
              "version_major": 2
            },
            "text/plain": [
              "HBox(children=(FloatProgress(value=0.0, description='Downloading', max=1300.0, style=ProgressStyle(description…"
            ]
          },
          "metadata": {
            "tags": []
          }
        },
        {
          "output_type": "stream",
          "text": [
            "\n"
          ],
          "name": "stdout"
        },
        {
          "output_type": "display_data",
          "data": {
            "application/vnd.jupyter.widget-view+json": {
              "model_id": "c8a3790a217f4f839dbff596549b9bc1",
              "version_minor": 0,
              "version_major": 2
            },
            "text/plain": [
              "HBox(children=(FloatProgress(value=0.0, description='Downloading', max=1625270765.0, style=ProgressStyle(descr…"
            ]
          },
          "metadata": {
            "tags": []
          }
        },
        {
          "output_type": "stream",
          "text": [
            "\n"
          ],
          "name": "stdout"
        },
        {
          "output_type": "stream",
          "text": [
            "Some weights of BartForConditionalGeneration were not initialized from the model checkpoint at facebook/bart-large-cnn and are newly initialized: ['final_logits_bias']\n",
            "You should probably TRAIN this model on a down-stream task to be able to use it for predictions and inference.\n"
          ],
          "name": "stderr"
        }
      ]
    },
    {
      "cell_type": "code",
      "metadata": {
        "id": "8O2q8HJFg6K4"
      },
      "source": [
        "def train(epoch, tokenizer, model, device, loader, optimizer):\n",
        "    model.train()\n",
        "    for _,data in enumerate(loader, 0):\n",
        "        y = data['target_ids'].to(device, dtype = torch.long)\n",
        "        y_ids = y[:, :-1].contiguous()\n",
        "        lm_labels = y[:, 1:].clone().detach()\n",
        "        lm_labels[y[:, 1:] == tokenizer.pad_token_id] = -100\n",
        "        ids = data['source_ids'].to(device, dtype = torch.long)\n",
        "        mask = data['source_mask'].to(device, dtype = torch.long)\n",
        "\n",
        "        outputs = model(input_ids = ids, attention_mask = mask, decoder_input_ids=y_ids, lm_labels=lm_labels)\n",
        "        loss = outputs[0]\n",
        "        \n",
        "        optimizer.zero_grad()\n",
        "        loss.backward()\n",
        "        optimizer.step()"
      ],
      "execution_count": null,
      "outputs": []
    },
    {
      "cell_type": "code",
      "metadata": {
        "id": "ofBrLrkJg6K9"
      },
      "source": [
        "def validate(epoch, tokenizer, model, device, loader):\n",
        "    model.eval()\n",
        "    predictions = []\n",
        "    actuals = []\n",
        "    with torch.no_grad():\n",
        "        for _, data in enumerate(loader, 0):\n",
        "            y = data['target_ids'].to(device, dtype = torch.long)\n",
        "            ids = data['source_ids'].to(device, dtype = torch.long)\n",
        "            mask = data['source_mask'].to(device, dtype = torch.long)\n",
        "\n",
        "            generated_ids = model.generate(\n",
        "                input_ids = ids,\n",
        "                attention_mask = mask, \n",
        "                max_length=180, \n",
        "                num_beams=2,\n",
        "                repetition_penalty=2.5, \n",
        "                length_penalty=1.0, \n",
        "                early_stopping=True\n",
        "                )\n",
        "            preds = [tokenizer.decode(g, skip_special_tokens=True, clean_up_tokenization_spaces=True) for g in generated_ids]\n",
        "            target = [tokenizer.decode(t, skip_special_tokens=True, clean_up_tokenization_spaces=True)for t in y]\n",
        "            if _%25==0:\n",
        "                print(f'Completed {_}')\n",
        "\n",
        "            predictions.extend(preds)\n",
        "            actuals.extend(target)\n",
        "    return predictions, actuals"
      ],
      "execution_count": null,
      "outputs": []
    },
    {
      "cell_type": "code",
      "metadata": {
        "id": "LI-kAjRKg6LD"
      },
      "source": [
        "TRAIN_BATCH_SIZE = 8    # input batch size for training (default: 64)\n",
        "VALID_BATCH_SIZE = 16    # input batch size for testing (default: 1000)\n",
        "TRAIN_EPOCHS = 1000       # number of epochs to train (default: 10)\n",
        "VAL_EPOCHS = 1 \n",
        "LEARNING_RATE = 5 * 1e-5    # learning rate (default: 0.01)\n",
        "SEED = 42               # random seed (default: 42)\n",
        "MAX_LEN = 200\n",
        "SUMMARY_LEN = 150\n",
        "\n",
        "scale = 1"
      ],
      "execution_count": null,
      "outputs": []
    },
    {
      "cell_type": "code",
      "metadata": {
        "id": "Yy9SFreIg6LJ"
      },
      "source": [
        "training_set = CustomDataset(train_dataset, tokenizer, MAX_LEN, SUMMARY_LEN)\n",
        "val_set = CustomDataset(val_dataset, tokenizer, MAX_LEN, SUMMARY_LEN)"
      ],
      "execution_count": null,
      "outputs": []
    },
    {
      "cell_type": "code",
      "metadata": {
        "id": "U0K99869g6LO"
      },
      "source": [
        "train_params = {\n",
        "        'batch_size': TRAIN_BATCH_SIZE,\n",
        "        'shuffle': True,\n",
        "        'num_workers': 0\n",
        "        }\n",
        "\n",
        "val_params = {\n",
        "    'batch_size': VALID_BATCH_SIZE,\n",
        "    'shuffle': False,\n",
        "    'num_workers': 0\n",
        "    }\n",
        "\n",
        "training_loader = DataLoader(training_set, **train_params)\n",
        "val_loader = DataLoader(val_set, **val_params)\n",
        "\n",
        "# Model declared above\n",
        "# model_statedict_path = \"drive/My Drive/Scientific_Doc_Summarization_Raw_Data/bart_gap_best.pt\"\n",
        "# model.load_state_dict(torch.load(model_statedict_path))\n",
        "\n",
        "# Defining the optimizer that will be used to tune the weights of the network in the training session. \n",
        "optimizer = torch.optim.Adam(params =  model.parameters(), lr=LEARNING_RATE)\n",
        "\n",
        "print('Initiating Fine-Tuning for the model on our dataset')\n",
        "\n",
        "old_best = 0\n",
        "\n",
        "# for early stopping\n",
        "\n",
        "for epoch in range(TRAIN_EPOCHS):\n",
        "    print(\"Epoch Number:\", epoch)\n",
        "    print(\"Learn Rate:\", LEARNING_RATE)\n",
        "    \n",
        "    for val_epoch in range(VAL_EPOCHS):\n",
        "        predictions, actuals = validate(val_epoch, tokenizer, model, device, val_loader)\n",
        "        final_df = pd.DataFrame({'Generated Text':predictions,'Actual Text':actuals})\n",
        "        final_df.to_csv('./predictions.csv')\n",
        "        print('Output Files generated for review')\n",
        "\n",
        "    scorer = rouge_scorer.RougeScorer(['rouge1', 'rouge2','rougeL'])\n",
        "    # scores = scorer.score(output,refsum)\n",
        "\n",
        "    final_df['Actual Text'] = final_df['Actual Text'].apply(lambda x: x.lower())\n",
        "    final_df['r1'] = final_df.apply(lambda x: scorer.score(x['Generated Text'], x['Actual Text'])['rouge1'][2], axis=1)\n",
        "    final_df['r2'] = final_df.apply(lambda x: scorer.score(x['Generated Text'], x['Actual Text'])['rouge2'][2], axis=1)\n",
        "    final_df['rl'] = final_df.apply(lambda x: scorer.score(x['Generated Text'], x['Actual Text'])['rougeL'][2], axis=1)\n",
        "\n",
        "    print(final_df['r1'].to_numpy().mean())\n",
        "    print(final_df['r2'].to_numpy().mean())\n",
        "    print(final_df['rl'].to_numpy().mean())\n",
        "\n",
        "    if (final_df['r1'].to_numpy().mean() > old_best):\n",
        "      print(\"Continuing on track\")\n",
        "      old_best = final_df['r1'].to_numpy().mean()\n",
        "\n",
        "      model_save_name = 'bart_intco.pt'\n",
        "      path = F\"/content/drive/My Drive/Scientific_Doc_Summarization_Raw_Data/{model_save_name}\"\n",
        "\n",
        "      delete_filename = path\n",
        "      open(delete_filename, 'w').close() # overwrite and make the file blank instead - ref: https://stackoverflow.com/a/4914288/3553367\n",
        "      os.remove(delete_filename) # delete the blank file from google drive will move the file to bin instead\n",
        "\n",
        "      model_save_name = 'bart_intco.pt'\n",
        "      path = F\"/content/drive/My Drive/Scientific_Doc_Summarization_Raw_Data/{model_save_name}\" \n",
        "      torch.save(model.state_dict(), path)\n",
        "\n",
        "    else:\n",
        "      print(\"Backtrack\")\n",
        "      model_statedict_path = \"drive/My Drive/Scientific_Doc_Summarization_Raw_Data/bart_intco.pt\"\n",
        "      model.load_state_dict(torch.load(model_statedict_path))\n",
        "      LEARNING_RATE /= (4 * scale)\n",
        "      scale *= 4\n",
        "      if LEARNING_RATE < 1e-7:\n",
        "        break\n",
        "      optimizer = torch.optim.Adam(params =  model.parameters(), lr=LEARNING_RATE)\n",
        "\n",
        "    train(epoch, tokenizer, model, device, training_loader, optimizer)"
      ],
      "execution_count": null,
      "outputs": []
    },
    {
      "cell_type": "code",
      "metadata": {
        "id": "kKMN3fddXyfx"
      },
      "source": [
        "# Thank You ^_^"
      ],
      "execution_count": null,
      "outputs": []
    }
  ]
}